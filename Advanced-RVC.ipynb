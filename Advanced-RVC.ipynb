{
  "cells": [
    {
      "cell_type": "markdown",
      "metadata": {
        "id": "view-in-github",
        "colab_type": "text"
      },
      "source": [
        "<a href=\"https://colab.research.google.com/github/turkmensamim/point-e/blob/main/Advanced-RVC.ipynb\" target=\"_parent\"><img src=\"https://colab.research.google.com/assets/colab-badge.svg\" alt=\"Open In Colab\"/></a>"
      ]
    },
    {
      "cell_type": "markdown",
      "source": [
        "<h1><div/align=\"center\"> Advanced RVC Inference\n",
        "\n",
        "---\n",
        "\n",
        "<big> for quicker and effortless model downloads\n",
        "\n",
        "---\n",
        "\n",
        "[Support](https://discord.gg/hvmsukmBHE) — [GitHub](https://github.com/ArkanDash/Advanced-RVC-Inference.git)"
      ],
      "metadata": {
        "id": "FZUxBujkr91c"
      }
    },
    {
      "cell_type": "code",
      "execution_count": 1,
      "metadata": {
        "cellView": "form",
        "id": "sfqNqmS-rEPK",
        "outputId": "1e75df4e-8ed5-488d-e7c2-5218d6b468fc",
        "colab": {
          "base_uri": "https://localhost:8080/"
        }
      },
      "outputs": [
        {
          "output_type": "stream",
          "name": "stdout",
          "text": [
            "Requirements installed!\n"
          ]
        }
      ],
      "source": [
        "#@title ## **Install**\n",
        "\n",
        "\n",
        "import os\n",
        "import codecs\n",
        "from IPython.display import clear_output\n",
        "\n",
        "\n",
        "!sudo apt update\n",
        "!sudo apt install python3.10\n",
        "!sudo update-alternatives --install /usr/bin/python3 python3 /usr/bin/python3.10 1\n",
        "!sudo update-alternatives --set python3 /usr/bin/python3.10\n",
        "!curl -sS https://bootstrap.pypa.io/get-pip.py | python3\n",
        "import sys\n",
        "sys.path.append('/usr/local/lib/python3.10/dist-packages')\n",
        "clear_output()\n",
        "\n",
        "print(\"Installing requirements\")\n",
        "\n",
        "repo = \"https://github.com/ArkanDash/Advanced-RVC-Inference.git\"\n",
        "\n",
        "!git clone $repo main_program\n",
        "%cd main_program\n",
        "\n",
        "!pip install -r requirements.txt\n",
        "!pip install torch==2.3.1 torchvision==0.18.1 torchaudio==2.3.1 --upgrade --index-url https://download.pytorch.org/whl/cu121  &> /dev/null\n",
        "!pip install numpy==1.23.5\n",
        "\n",
        "clear_output()\n",
        "print(\"Requirements installed!\")"
      ]
    },
    {
      "cell_type": "code",
      "source": [
        "#@title ## **Start**\n",
        "import codecs\n",
        "\n",
        "!git pull -q\n",
        "\n",
        "runtime=codecs.decode(\"ncc.cl --funer\", \"rot_13\")\n",
        "!python $runtime"
      ],
      "metadata": {
        "cellView": "form",
        "id": "pU5A1DTXN1do",
        "outputId": "8719bf85-905c-4b40-e1fd-d1a5bfff5f1f",
        "colab": {
          "base_uri": "https://localhost:8080/"
        }
      },
      "execution_count": null,
      "outputs": [
        {
          "output_type": "stream",
          "name": "stdout",
          "text": [
            "Discord is not running. Rich Presence will be disabled.\n",
            "Downloading all files: 629MiB [00:09, 68.7MiB/s]\n",
            "* Running on local URL:  http://127.0.0.1:7755\n",
            "* Running on public URL: https://0743a6013d3ed6a7dc.gradio.live\n",
            "\n",
            "This share link expires in 1 week. For free permanent hosting and GPU upgrades, run `gradio deploy` from the terminal in the working directory to deploy to Hugging Face Spaces (https://huggingface.co/spaces)\n",
            "erman_yasar_e1000_s31000.pth saved in /content/main_program/logs/erman_yasar_e1000_s31000\n",
            "added_flat_L2_v2.index saved in /content/main_program/logs/flat_L2\n",
            "Number of GPUs available: 1\n",
            "100% 871M/871M [00:06<00:00, 137MB/s]\n",
            "File 'model.ckpt' downloaded successfully\n",
            "100% 1.68k/1.68k [00:00<00:00, 7.99MB/s]\n",
            "File 'config.yaml' downloaded successfully\n",
            "Separating vocals...\n",
            "CUDA is available, use --force_cpu to disable it.\n",
            "Using device:  cuda:0\n",
            "GPU Compute Capability below 8.0, using math or mem efficient attention if input tensor is on cuda\n",
            "Start from checkpoint: /content/main_program/models/mel-vocals/model.ckpt\n",
            "Instruments: ['vocals', 'other']\n",
            "Model load time: 5.35 sec\n",
            "Starting processing track:  audio_files/original_files/gs-fb-test01.wav\n",
            "Elapsed time: 21.26 sec\n",
            "Separating Backing vocals...\n",
            "100% 871M/871M [00:04<00:00, 187MB/s]\n",
            "File 'model.ckpt' downloaded successfully\n",
            "100% 1.60k/1.60k [00:00<00:00, 6.47MB/s]\n",
            "File 'config.yaml' downloaded successfully\n",
            "CUDA is available, use --force_cpu to disable it.\n",
            "Using device:  cuda:0\n",
            "GPU Compute Capability below 8.0, using math or mem efficient attention if input tensor is on cuda\n",
            "Start from checkpoint: /content/main_program/models/mel-kara/model.ckpt\n",
            "Instruments: ['karaoke', 'other']\n",
            "Model load time: 6.26 sec\n",
            "Starting processing track:  /content/main_program/audio_files/gs-fb-test01/vocals/gs-fb-test01_vocals.flac\n",
            "Elapsed time: 18.85 sec\n",
            "Removing reverb...\n",
            "28.3kiB [00:00, 45.9MiB/s]      \n",
            "100% 224M/224M [00:01<00:00, 218MiB/s]\n",
            "4.38kiB [00:00, 14.5MiB/s]      \n",
            "15.4kiB [00:00, 43.5MiB/s]      \n",
            "100% 4/4 [00:01<00:00,  3.91it/s]\n",
            "100% 13/13 [00:00<00:00, 198999.82it/s]\n",
            "100% 13/13 [00:02<00:00,  4.44it/s]\n",
            "Making RVC inference...\n",
            "Converting audio '/content/main_program/audio_files/gs-fb-test01/dereverb/gs-fb-test01_noreverb.flac'...\n",
            "Converting audio to FLAC format...\n",
            "Conversion completed at '/content/main_program/audio_files/gs-fb-test01/rvc/gs-fb-test01_rvc.flac' in 16.29 seconds.\n",
            "Merging audios...\n",
            "Audios merged...\n",
            "Number of GPUs available: 1\n",
            "Vocals already separated...\n",
            "Backing vocals already separated...\n",
            "Reverb already removed...\n",
            "Making RVC inference...\n",
            "Converting audio '/content/main_program/audio_files/gs-fb-test01/dereverb/gs-fb-test01_noreverb.flac'...\n",
            "Converting audio to FLAC format...\n",
            "Conversion completed at '/content/main_program/audio_files/gs-fb-test01/rvc/gs-fb-test01_rvc.flac' in 14.01 seconds.\n",
            "Merging audios...\n",
            "Audios merged...\n"
          ]
        }
      ]
    }
  ],
  "metadata": {
    "language_info": {
      "name": "python"
    },
    "orig_nbformat": 4,
    "colab": {
      "provenance": [],
      "gpuType": "T4",
      "include_colab_link": true
    },
    "kernelspec": {
      "name": "python3",
      "display_name": "Python 3"
    },
    "accelerator": "GPU"
  },
  "nbformat": 4,
  "nbformat_minor": 0
}